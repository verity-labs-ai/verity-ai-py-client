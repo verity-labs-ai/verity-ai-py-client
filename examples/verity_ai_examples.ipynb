{
  "cells": [
    {
      "cell_type": "markdown",
      "metadata": {
        "vscode": {
          "languageId": "raw"
        }
      },
      "source": [
        "# Verity AI SDK Examples\n",
        "\n",
        "This notebook demonstrates how to use the Verity AI Python SDK to interact with various AI services including chat completions, model management, SQL queries, file management, and document search.\n",
        "\n",
        "## Prerequisites\n",
        "1. Install the Verity AI SDK\n",
        "2. Set up your API key\n",
        "3. Ensure you have access to the required knowledge bases and databases\n"
      ]
    },
    {
      "cell_type": "code",
      "execution_count": 3,
      "metadata": {},
      "outputs": [],
      "source": [
        "import requests\n",
        "import tempfile\n",
        "import json\n",
        "from pathlib import Path"
      ]
    },
    {
      "cell_type": "code",
      "execution_count": null,
      "metadata": {},
      "outputs": [],
      "source": [
        "# Install the Verity AI client\n",
        "%pip install --upgrade verity-ai-client\n"
      ]
    },
    {
      "cell_type": "code",
      "execution_count": 5,
      "metadata": {},
      "outputs": [
        {
          "name": "stdout",
          "output_type": "stream",
          "text": [
            "✅ API key found in environment variables\n",
            "🔧 Configuration complete!\n"
          ]
        }
      ],
      "source": [
        "import os\n",
        "import verity_ai_pyc\n",
        "from verity_ai_pyc.rest import ApiException\n",
        "import getpass\n",
        "\n",
        "# Set your API key (you can also set this as an environment variable)\n",
        "if not os.getenv(\"API_KEY\"):\n",
        "    api_key = getpass.getpass(\"Enter your Verity AI API key: \")\n",
        "    os.environ[\"API_KEY\"] = api_key\n",
        "else:\n",
        "    print(\"✅ API key found in environment variables\")\n",
        "\n",
        "# Configure the client\n",
        "configuration = verity_ai_pyc.Configuration(\n",
        "    host=\"https://chat.veritylabs.ai\"\n",
        ")\n",
        "configuration.api_key['XAPIKeyAuth'] = os.environ[\"API_KEY\"]\n",
        "\n",
        "print(\"🔧 Configuration complete!\")\n"
      ]
    },
    {
      "cell_type": "markdown",
      "metadata": {},
      "source": [
        "## 1. Models API - List Available Models\n",
        "\n",
        " Let's start by exploring what models are available:"
      ]
    },
    {
      "cell_type": "code",
      "execution_count": 6,
      "metadata": {},
      "outputs": [
        {
          "name": "stdout",
          "output_type": "stream",
          "text": [
            "Available models: ['anthropic_claude_3_haiku_v1', 'anthropic_claude_3_5_sonnet_v1', 'anthropic_claude_3_7_sonnet_v1']\n"
          ]
        }
      ],
      "source": [
        "\n",
        "def list_available_models():\n",
        "    \"\"\"List all available models.\"\"\"\n",
        "    with verity_ai_pyc.ApiClient(configuration) as api_client:\n",
        "        models_api = verity_ai_pyc.ModelsApi(api_client)\n",
        "        models = models_api.list_models_rag_generation_models_get()\n",
        "        print(f\"Available models: {models}\")\n",
        "        return models\n",
        "\n",
        "# Run the example\n",
        "available_models = list_available_models()\n"
      ]
    },
    {
      "cell_type": "markdown",
      "metadata": {
        "vscode": {
          "languageId": "raw"
        }
      },
      "source": [
        "## 2. File Upload and Delete Examples\n",
        "\n",
        "These examples show how to upload and delete files using the Verity AI API:\n"
      ]
    },
    {
      "cell_type": "markdown",
      "metadata": {},
      "source": [
        "### Unstructured Data "
      ]
    },
    {
      "cell_type": "code",
      "execution_count": 7,
      "metadata": {},
      "outputs": [
        {
          "name": "stdout",
          "output_type": "stream",
          "text": [
            "✅ Successfully uploaded ../../../data/demo_datasets/test/llava.pdf\n",
            "Response: message='File uploaded successfully' s3_path='s3://120569609191-growth-unstructured/veritydemo/test_knowledge_base/llava.pdf'\n"
          ]
        },
        {
          "data": {
            "text/plain": [
              "UploadFileResponse(message='File uploaded successfully', s3_path='s3://120569609191-growth-unstructured/veritydemo/test_knowledge_base/llava.pdf')"
            ]
          },
          "execution_count": 7,
          "metadata": {},
          "output_type": "execute_result"
        }
      ],
      "source": [
        "def simple_upload_unstructured_example(file_path):\n",
        "    \"\"\"Simple example of uploading an unstructured file.\"\"\"\n",
        "\n",
        "    # Configure the client\n",
        "    configuration = verity_ai_pyc.Configuration(\n",
        "        host=\"https://chat.veritylabs.ai\"\n",
        "    )\n",
        "    configuration.api_key['XAPIKeyAuth'] = os.environ[\"API_KEY\"]\n",
        "\n",
        "    # Create API client\n",
        "    with verity_ai_pyc.ApiClient(configuration) as api_client:\n",
        "        file_management_api = verity_ai_pyc.FileManagementApi(api_client)\n",
        "        \n",
        "        try:\n",
        "            response = file_management_api.upload_file_fileman_data_upload_post(\n",
        "                file=file_path,\n",
        "                storage_type=\"unstructured\",\n",
        "                knowledge_base=\"test_knowledge_base\"\n",
        "            )\n",
        "            \n",
        "            print(f\"✅ Successfully uploaded {file_path}\")\n",
        "            print(f\"Response: {response}\")\n",
        "            return response\n",
        "        except ApiException as e:\n",
        "            print(f\"❌ Error uploading file: {e}\")\n",
        "            return None\n",
        "\n",
        "file_path = \"../../../data/demo_datasets/test/llava.pdf\"\n",
        "simple_upload_unstructured_example(file_path)"
      ]
    },
    {
      "cell_type": "code",
      "execution_count": 8,
      "metadata": {},
      "outputs": [
        {
          "name": "stdout",
          "output_type": "stream",
          "text": [
            "Found 3 files:\n",
            "1. Contracts/SampleContract-Shuttle.pdf (0.05 MB)\n",
            "2. Test KB/TED-Platform-for-AI-Search-Seamless-Data-Integration-Semantic-Search-and-AI-Powered-Insights-for-the.pdf (7.89 MB)\n",
            "3. Veirty_docs/TED-Platform-for-AI-Search-Seamless-Data-Integration-Semantic-Search-and-AI-Powered-Insights-for-the.pdf (7.89 MB)\n"
          ]
        }
      ],
      "source": [
        "def list_files(storage_type=\"unstructured\", page=1, page_size=10):\n",
        "    \"\"\"List files in the knowledge base.\"\"\"\n",
        "    with verity_ai_pyc.ApiClient(configuration) as api_client:\n",
        "        file_management_api = verity_ai_pyc.FileManagementApi(api_client)\n",
        "        response = file_management_api.list_files_get_fileman_data_list_get(\n",
        "            storage_type=storage_type, page=page, page_size=page_size\n",
        "        )\n",
        "        \n",
        "        print(f\"Found {len(response.files)} files:\")\n",
        "        for i, file_info in enumerate(response.files, 1):\n",
        "            filename = getattr(file_info, 'filename', 'Unknown')\n",
        "            size_mb = getattr(file_info, 'size_mb', 0)\n",
        "            print(f\"{i}. {filename} ({size_mb:.2f} MB)\")\n",
        "        return response\n",
        "\n",
        "# List files\n",
        "file_list = list_files(page_size=5)"
      ]
    },
    {
      "cell_type": "code",
      "execution_count": 9,
      "metadata": {},
      "outputs": [
        {
          "name": "stdout",
          "output_type": "stream",
          "text": [
            "\n",
            "🗑️ Simple Delete Unstructured File Example\n",
            "----------------------------------------\n",
            "✅ Successfully deleted unstructured file\n",
            "Response: status='success' deleted_files=['llava.pdf']\n"
          ]
        },
        {
          "data": {
            "text/plain": [
              "DeleteResponse(status='success', deleted_files=['llava.pdf'])"
            ]
          },
          "execution_count": 9,
          "metadata": {},
          "output_type": "execute_result"
        }
      ],
      "source": [
        "def simple_delete_unstructured_example(filenames):\n",
        "    \"\"\"Simple example of deleting an unstructured file.\"\"\"\n",
        "    print(\"\\n🗑️ Simple Delete Unstructured File Example\")\n",
        "    print(\"-\" * 40)\n",
        "    \n",
        "    # Configure the client\n",
        "    configuration = verity_ai_pyc.Configuration(\n",
        "        host=\"https://chat.veritylabs.ai\"\n",
        "    )\n",
        "    configuration.api_key['XAPIKeyAuth'] = os.environ[\"API_KEY\"]\n",
        "\n",
        "    # Create API client\n",
        "    with verity_ai_pyc.ApiClient(configuration) as api_client:\n",
        "        file_management_api = verity_ai_pyc.FileManagementApi(api_client)\n",
        "        \n",
        "        try:\n",
        "            # Create delete request\n",
        "            delete_request = verity_ai_pyc.DeleteRequest(\n",
        "                filenames=filenames\n",
        "            )\n",
        "            \n",
        "            response = file_management_api.delete_files_fileman_data_delete_delete(\n",
        "                storage_type=\"unstructured\",\n",
        "                delete_request=delete_request,\n",
        "                base_path=\"test_knowledge_base\"\n",
        "            )\n",
        "            \n",
        "            print(\"✅ Successfully deleted unstructured file\")\n",
        "            print(f\"Response: {response}\")\n",
        "            return response\n",
        "        except ApiException as e:\n",
        "            print(f\"❌ Error deleting unstructured file: {e}\")\n",
        "            return None\n",
        "\n",
        "\n",
        "filenames = [\"llava.pdf\"]\n",
        "simple_delete_unstructured_example(filenames)"
      ]
    },
    {
      "cell_type": "markdown",
      "metadata": {},
      "source": [
        "### Structured Data"
      ]
    },
    {
      "cell_type": "code",
      "execution_count": 10,
      "metadata": {},
      "outputs": [
        {
          "name": "stdout",
          "output_type": "stream",
          "text": [
            "✅ Successfully uploaded ../../../data/structured/pharma/MIMIC_CALLOUT/MIMIC_CALLOUT.csv\n",
            "Response: message='File uploaded successfully' s3_path='s3://120569609191-growth-structured/veritydemo/test_db/test_table/MIMIC_CALLOUT.csv'\n"
          ]
        },
        {
          "data": {
            "text/plain": [
              "UploadFileResponse(message='File uploaded successfully', s3_path='s3://120569609191-growth-structured/veritydemo/test_db/test_table/MIMIC_CALLOUT.csv')"
            ]
          },
          "execution_count": 10,
          "metadata": {},
          "output_type": "execute_result"
        }
      ],
      "source": [
        "def simple_upload_structured_example(filepath):\n",
        "    \"\"\"Simple example of uploading a structured file.\"\"\"\n",
        "    \n",
        "    # Configure the client\n",
        "    configuration = verity_ai_pyc.Configuration(\n",
        "        host=\"https://chat.veritylabs.ai\"\n",
        "    )\n",
        "    configuration.api_key['XAPIKeyAuth'] = os.environ[\"API_KEY\"]\n",
        "\n",
        "    # Create API client\n",
        "    with verity_ai_pyc.ApiClient(configuration) as api_client:\n",
        "        file_management_api = verity_ai_pyc.FileManagementApi(api_client)\n",
        "        \n",
        "        try:            \n",
        "            response = file_management_api.upload_file_fileman_data_upload_post(\n",
        "                file=filepath,\n",
        "                storage_type=\"structured\",\n",
        "                database_name=\"test_db\",\n",
        "                table_name=\"test_table\"\n",
        "            )\n",
        "            \n",
        "            print(f\"✅ Successfully uploaded {filepath}\")\n",
        "            print(f\"Response: {response}\")\n",
        "            return response\n",
        "        except ApiException as e:\n",
        "            print(f\"❌ Error uploading structured file: {e}\")\n",
        "            return None\n",
        "        \n",
        "filepath = \"../../../data/structured/pharma/MIMIC_CALLOUT/MIMIC_CALLOUT.csv\"\n",
        "simple_upload_structured_example(filepath)"
      ]
    },
    {
      "cell_type": "code",
      "execution_count": 11,
      "metadata": {},
      "outputs": [
        {
          "name": "stdout",
          "output_type": "stream",
          "text": [
            "✅ Successfully deleted structured file\n",
            "Response: status='success' deleted_files=['MIMIC_CALLOUT.csv']\n"
          ]
        },
        {
          "data": {
            "text/plain": [
              "DeleteResponse(status='success', deleted_files=['MIMIC_CALLOUT.csv'])"
            ]
          },
          "execution_count": 11,
          "metadata": {},
          "output_type": "execute_result"
        }
      ],
      "source": [
        "def simple_delete_structured_example(filenames):\n",
        "    \"\"\"Simple example of deleting a structured file.\"\"\"\n",
        "\n",
        "    # Configure the client\n",
        "    configuration = verity_ai_pyc.Configuration(\n",
        "        host=\"https://chat.veritylabs.ai\"\n",
        "    )\n",
        "    configuration.api_key['XAPIKeyAuth'] = os.environ[\"API_KEY\"]\n",
        "\n",
        "    # Create API client\n",
        "    with verity_ai_pyc.ApiClient(configuration) as api_client:\n",
        "        file_management_api = verity_ai_pyc.FileManagementApi(api_client)\n",
        "        \n",
        "        try:\n",
        "            # Create delete request\n",
        "            delete_request = verity_ai_pyc.DeleteRequest(\n",
        "                filenames=filenames\n",
        "            )\n",
        "            \n",
        "            response = file_management_api.delete_files_fileman_data_delete_delete(\n",
        "                storage_type=\"structured\",\n",
        "                delete_request=delete_request,\n",
        "                base_path=\"test_db\",\n",
        "                sub_path=\"test_table\"\n",
        "            )\n",
        "            \n",
        "            print(\"✅ Successfully deleted structured file\")\n",
        "            print(f\"Response: {response}\")\n",
        "            return response\n",
        "        except ApiException as e:\n",
        "            print(f\"❌ Error deleting structured file: {e}\")\n",
        "            return None\n",
        "filenames = [\"MIMIC_CALLOUT.csv\"]\n",
        "simple_delete_structured_example(filenames)"
      ]
    },
    {
      "cell_type": "markdown",
      "metadata": {
        "vscode": {
          "languageId": "raw"
        }
      },
      "source": [
        "## 3. Chat Completions API - Unstructured Data\n",
        "\n",
        "This example shows how to use the chat completion API with unstructured data (general knowledge):\n"
      ]
    },
    {
      "cell_type": "code",
      "execution_count": 13,
      "metadata": {},
      "outputs": [
        {
          "name": "stdout",
          "output_type": "stream",
          "text": [
            "Question: What is Verity Labs?\n",
            "Answer: Based on the provided context, Verity Labs appears to be a company that offers AI-powered solutions for enterprise data management and analysis. While there isn't a direct definition of Verity Labs in the given information, we can infer the following:\n",
            "\n",
            "1. Verity Labs provides an AI platform that helps businesses connect to their data and automate work processes.\n",
            "\n",
            "2. They offer solutions for various industries, including:\n",
            "   - Pharma & Healthcare\n",
            "   - Financial Services\n",
            "   - Manufacturing\n",
            "\n",
            "3. Their functional solutions cover areas such as:\n",
            "   - Data & Analytics\n",
            "   - Contact Center Operations\n",
            "   - General Operations\n",
            "\n",
            "4. Verity Labs has offices in the United States (Santa Clara, CA) and India (Bengaluru, Karnataka).\n",
            "\n",
            "5. Their tagline is \"Transforming enterprise data into actionable intelligence with AI-powered solutions.\"\n",
            "\n",
            "6. They provide a platform with features like the TED Stack (their core technology stack), security features, and flexible deployment options.\n",
            "\n",
            "Top Sources:\n",
            "1. Document Name: page|https://www.veritylabs.ai/contact, Page Numbers: 1\n",
            "2. Document Name: page|https://www.veritylabs.ai/solutions, Page Numbers: 1\n"
          ]
        }
      ],
      "source": [
        "def chat_with_unstructured_data(question=\"What is artificial intelligence?\"):\n",
        "    \"\"\"Chat completion with unstructured data.\"\"\"\n",
        "    with verity_ai_pyc.ApiClient(configuration) as api_client:\n",
        "        completions_api = verity_ai_pyc.CompletionsApi(api_client)\n",
        "        chat_request = verity_ai_pyc.ChatCompletionRequestPublic(\n",
        "            model=\"anthropic_claude_3_5_sonnet_v1\",\n",
        "            messages=[verity_ai_pyc.Message(role=\"user\", content=question)],\n",
        "            data_type=\"unstructured\",\n",
        "            knowledge_base=verity_ai_pyc.KnowledgeBase(\"all\")\n",
        "        )\n",
        "        response = completions_api.create_chat_completion_rag_generation_chat_completions_post(chat_request)\n",
        "        print(f\"Question: {question}\")\n",
        "        print(f\"Answer: {response.messages[0].content}\")\n",
        "        return response\n",
        "\n",
        "# Run the example\n",
        "chat_response = chat_with_unstructured_data(\"What is Verity Labs?\")\n"
      ]
    },
    {
      "cell_type": "markdown",
      "metadata": {
        "vscode": {
          "languageId": "raw"
        }
      },
      "source": [
        "## 4. SQL Chat API - Structured Data\n",
        "\n",
        "This example shows how to query structured data (databases) using natural language:\n"
      ]
    },
    {
      "cell_type": "code",
      "execution_count": 14,
      "metadata": {},
      "outputs": [
        {
          "name": "stdout",
          "output_type": "stream",
          "text": [
            "Question: How many records are in the database?\n",
            "Answer: # Query Results Summary\n",
            "\n",
            "## Overview\n",
            "- **Total Records**: 77,815\n",
            "\n",
            "## Key Insights\n",
            "\n",
            "This query result provides a single, important metric:\n",
            "\n",
            "- The database or table being queried contains **77,815 total records**.\n",
            "\n",
            "## Context and Implications\n",
            "\n",
            "1. **Data Volume**: This is a substantial dataset, with nearly 80,000 records. This volume suggests:\n",
            "   - A comprehensive collection of information\n",
            "   - Potential for rich data analysis and insights\n",
            "   - Likely covers a significant time period or wide range of entries\n",
            "\n",
            "2. **Data Management**: With this many records, considerations should be given to:\n",
            "   - Efficient data storage and retrieval methods\n",
            "   - Potential need for data indexing or optimization for query performance\n",
            "   - Regular maintenance and data quality checks\n",
            "\n",
            "3. **Analysis Opportunities**: This large dataset offers:\n",
            "   - Potential for identifying trends or patterns over time\n",
            "   - Possibilities for segmentation or categorization of data\n",
            "   - Rich ground for statistical analysis or machine learning applications\n",
            "\n",
            "4. **Reporting and Visualization**: When working with this data:\n",
            "   - Consider summarizing or aggregating data for high-level reporting\n",
            "   - Visualization techniques may be useful to represent the large volume of records effectively\n",
            "\n",
            "## Additional Considerations\n",
            "\n",
            "- Without more context about the nature of these records, it's difficult to provide more specific insights.\n",
            "- If this number seems unexpectedly high or low, it may be worth verifying the query to ensure all intended filters or conditions were applied correctly.\n"
          ]
        }
      ],
      "source": [
        "def chat_with_sql_data(question=\"How many records are in the database?\"):\n",
        "    \"\"\"Chat completion with SQL/structured data.\"\"\"\n",
        "    with verity_ai_pyc.ApiClient(configuration) as api_client:\n",
        "        completions_api = verity_ai_pyc.CompletionsApi(api_client)\n",
        "        chat_request = verity_ai_pyc.ChatCompletionRequestPublic(\n",
        "            model=\"anthropic_claude_3_5_sonnet_v1\",\n",
        "            messages=[verity_ai_pyc.Message(role=\"user\", content=question)],\n",
        "            data_type=\"structured\",\n",
        "            database_name=\"veritydemo_mimic\"\n",
        "        )\n",
        "        response = completions_api.create_chat_completion_rag_generation_chat_completions_post(chat_request)\n",
        "        print(f\"Question: {question}\")\n",
        "        print(f\"Answer: {response.messages[0].content}\")\n",
        "        return response\n",
        "\n",
        "# Run the example\n",
        "sql_response = chat_with_sql_data()\n"
      ]
    },
    {
      "cell_type": "markdown",
      "metadata": {},
      "source": [
        "## 5. Document Search API - Retrieve Relevant Documents\n",
        "\n",
        "This example shows how to search for relevant documents in your knowledge base:\n"
      ]
    },
    {
      "cell_type": "code",
      "execution_count": 20,
      "metadata": {},
      "outputs": [
        {
          "name": "stdout",
          "output_type": "stream",
          "text": [
            "✅ Document search completed successfully!\n",
            "{'status': 'success', 'results': [{'_id': 'MtaT3ZYBSJd5sHbkAcWd', 'paragraph': 'Accounts Receivable\\n\\nTrade Receivables\\n\\nThe Company has considerable trade receivables outstanding with its third-party cellular network carriers, wholesalers, retailers, resellers, small and mid-sized\\nbusinesses  and  education,  enterprise  and  government  customers.  The  Company  generally  does  not  require  collateral  from  its  customers;  however,  the\\nCompany will require collateral or third-party credit support in certain instances to limit credit risk. In addition, when possible, the Company attempts to limit credit\\nrisk on trade receivables with credit insurance for certain customers or by requiring third-party financing, loans or leases to support credit exposure. These credit-\\nfinancing arrangements are directly between the third-party financing company and the end customer. As such, the Company generally does not assume any\\nrecourse or credit risk sharing related to any of these arrangements.\\n\\nAs of both April 1, 2023 and September 24, 2022, the Company had one customer that represented 10% or more of total trade receivables, which accounted for\\n10%. The Company’s cellular network carriers accounted for 32% and 44% of total trade receivables as of April 1, 2023 and September 24, 2022, respectively.\\n\\nVendor Non-Trade Receivables\\n\\nThe Company has non-trade receivables from certain of its manufacturing vendors resulting from the sale of components to these vendors who manufacture\\nsubassemblies  or  assemble  final  products  for  the  Company.  The  Company  purchases  these  components  directly  from  suppliers.  As  of  April  1,  2023,  the\\nCompany had three vendors that individually represented 10% or more of total vendor non-trade receivables, which accounted for 43%, 19% and 13%. As of\\nSeptember 24, 2022, the Company had two vendors that individually represented 10% or more of total vendor non-trade receivables, which accounted for 54%\\nand 13%.\\n\\nNote 4 – Condensed Consolidated Financial Statement Details\\n\\nThe following tables show the Company’s condensed consolidated financial statement details as of April 1, 2023 and September 24, 2022 (in millions):\\n\\nInventories\\n\\nComponents\\nFinished goods\\n\\nTotal inventories\\n\\nProperty, Plant and Equipment, Net\\n\\nGross property, plant and equipment\\nAccumulated depreciation and amortization\\n\\nTotal property, plant and equipment, net\\n\\nOther Income/(Expense), Net\\n\\nApril 1,\\n2023\\n\\nSeptember 24,\\n2022\\n\\n3,379  $\\n4,103 \\n7,482  $\\n\\n1,637 \\n3,309 \\n4,946 \\n\\nApril 1,\\n2023\\n\\nSeptember 24,\\n2022\\n\\n113,066  $\\n(69,668)\\n43,398  $\\n\\n114,457 \\n(72,340)\\n42,117 \\n\\n$\\n\\n$\\n\\n$\\n\\n$\\n\\nThe following table shows the detail of other income/(expense), net for the three- and six-month periods ended April 1, 2023 and March 26, 2022 (in millions):\\n\\nInterest and dividend income\\nInterest expense\\nOther income/(expense), net\\n\\nTotal other income/(expense), net\\n\\nThree Months Ended\\n\\nSix Months Ended\\n\\nApril 1,\\n2023\\n\\nMarch 26,\\n2022\\n\\nApril 1,\\n2023\\n\\nMarch 26,\\n2022\\n\\n$\\n\\n$\\n\\n918  $\\n(930)\\n76 \\n\\n64  $\\n\\n700  $\\n(691)\\n151 \\n\\n160  $\\n\\n1,786  $\\n(1,933)\\n(182)\\n\\n(329) $\\n\\n1,350 \\n(1,385)\\n(52)\\n\\n(87)\\n\\nApple Inc. | Q2 2023 Form 10-Q | 10', 'page_number': 13, 'document_path': 's3://120569609191-growth-unstructured/veritydemo/sec-10-q/2023+Q2+AAPL.pdf', 'document_id': '2023 Q2 AAPL.pdf'}, {'_id': '14OG3ZYB711G2PqloIXP', 'paragraph': 'Accounts Receivable\\n\\nTrade Receivables\\n\\nThe Company has considerable trade receivables outstanding with its third-party cellular network carriers, wholesalers, retailers, resellers, small and mid-sized\\nbusinesses  and  education,  enterprise  and  government  customers.  The  Company  generally  does  not  require  collateral  from  its  customers;  however,  the\\nCompany will require collateral or third-party credit support in certain instances to limit credit risk. In addition, when possible, the Company attempts to limit credit\\nrisk on trade receivables with credit insurance for certain customers or by requiring third-party financing, loans or leases to support credit exposure. These credit-\\nfinancing arrangements are directly between the third-party financing company and the end customer. As such, the Company generally does not assume any\\nrecourse or credit risk sharing related to any of these arrangements.\\n\\nAs of both April 1, 2023 and September 24, 2022, the Company had one customer that represented 10% or more of total trade receivables, which accounted for\\n10%. The Company’s cellular network carriers accounted for 32% and 44% of total trade receivables as of April 1, 2023 and September 24, 2022, respectively.\\n\\nVendor Non-Trade Receivables\\n\\nThe Company has non-trade receivables from certain of its manufacturing vendors resulting from the sale of components to these vendors who manufacture\\nsubassemblies  or  assemble  final  products  for  the  Company.  The  Company  purchases  these  components  directly  from  suppliers.  As  of  April  1,  2023,  the\\nCompany had three vendors that individually represented 10% or more of total vendor non-trade receivables, which accounted for 43%, 19% and 13%. As of\\nSeptember 24, 2022, the Company had two vendors that individually represented 10% or more of total vendor non-trade receivables, which accounted for 54%\\nand 13%.\\n\\nNote 4 – Condensed Consolidated Financial Statement Details\\n\\nThe following tables show the Company’s condensed consolidated financial statement details as of April 1, 2023 and September 24, 2022 (in millions):\\n\\nInventories\\n\\nComponents\\nFinished goods\\n\\nTotal inventories\\n\\nProperty, Plant and Equipment, Net\\n\\nGross property, plant and equipment\\nAccumulated depreciation and amortization\\n\\nTotal property, plant and equipment, net\\n\\nOther Income/(Expense), Net\\n\\nApril 1,\\n2023\\n\\nSeptember 24,\\n2022\\n\\n3,379  $\\n4,103 \\n7,482  $\\n\\n1,637 \\n3,309 \\n4,946 \\n\\nApril 1,\\n2023\\n\\nSeptember 24,\\n2022\\n\\n113,066  $\\n(69,668)\\n43,398  $\\n\\n114,457 \\n(72,340)\\n42,117 \\n\\n$\\n\\n$\\n\\n$\\n\\n$\\n\\nThe following table shows the detail of other income/(expense), net for the three- and six-month periods ended April 1, 2023 and March 26, 2022 (in millions):\\n\\nInterest and dividend income\\nInterest expense\\nOther income/(expense), net\\n\\nTotal other income/(expense), net\\n\\nThree Months Ended\\n\\nSix Months Ended\\n\\nApril 1,\\n2023\\n\\nMarch 26,\\n2022\\n\\nApril 1,\\n2023\\n\\nMarch 26,\\n2022\\n\\n$\\n\\n$\\n\\n918  $\\n(930)\\n76 \\n\\n64  $\\n\\n700  $\\n(691)\\n151 \\n\\n160  $\\n\\n1,786  $\\n(1,933)\\n(182)\\n\\n(329) $\\n\\n1,350 \\n(1,385)\\n(52)\\n\\n(87)\\n\\nApple Inc. | Q2 2023 Form 10-Q | 10', 'page_number': 13, 'document_path': 's3://120569609191-growth-unstructured/veritydemo/sec-10-q/2023+Q2+AAPL.pdf', 'document_id': '2023 Q2 AAPL.pdf'}, {'_id': '3NaE3ZYBSJd5sHbkMpuA', 'paragraph': 'Accounts Receivable\\n\\nTrade Receivables\\n\\nThe Company has considerable trade receivables outstanding with its third-party cellular network carriers, wholesalers, retailers, resellers, small and mid-sized\\nbusinesses  and  education,  enterprise  and  government  customers.  The  Company  generally  does  not  require  collateral  from  its  customers;  however,  the\\nCompany will require collateral or third-party credit support in certain instances to limit credit risk. In addition, when possible, the Company attempts to limit credit\\nrisk on trade receivables with credit insurance for certain customers or by requiring third-party financing, loans or leases to support credit exposure. These credit-\\nfinancing arrangements are directly between the third-party financing company and the end customer. As such, the Company generally does not assume any\\nrecourse or credit risk sharing related to any of these arrangements.\\n\\nAs of both April 1, 2023 and September 24, 2022, the Company had one customer that represented 10% or more of total trade receivables, which accounted for\\n10%. The Company’s cellular network carriers accounted for 32% and 44% of total trade receivables as of April 1, 2023 and September 24, 2022, respectively.\\n\\nVendor Non-Trade Receivables\\n\\nThe Company has non-trade receivables from certain of its manufacturing vendors resulting from the sale of components to these vendors who manufacture\\nsubassemblies  or  assemble  final  products  for  the  Company.  The  Company  purchases  these  components  directly  from  suppliers.  As  of  April  1,  2023,  the\\nCompany had three vendors that individually represented 10% or more of total vendor non-trade receivables, which accounted for 43%, 19% and 13%. As of\\nSeptember 24, 2022, the Company had two vendors that individually represented 10% or more of total vendor non-trade receivables, which accounted for 54%\\nand 13%.\\n\\nNote 4 – Condensed Consolidated Financial Statement Details\\n\\nThe following tables show the Company’s condensed consolidated financial statement details as of April 1, 2023 and September 24, 2022 (in millions):\\n\\nInventories\\n\\nComponents\\nFinished goods\\n\\nTotal inventories\\n\\nProperty, Plant and Equipment, Net\\n\\nGross property, plant and equipment\\nAccumulated depreciation and amortization\\n\\nTotal property, plant and equipment, net\\n\\nOther Income/(Expense), Net\\n\\nApril 1,\\n2023\\n\\nSeptember 24,\\n2022\\n\\n3,379  $\\n4,103 \\n7,482  $\\n\\n1,637 \\n3,309 \\n4,946 \\n\\nApril 1,\\n2023\\n\\nSeptember 24,\\n2022\\n\\n113,066  $\\n(69,668)\\n43,398  $\\n\\n114,457 \\n(72,340)\\n42,117 \\n\\n$\\n\\n$\\n\\n$\\n\\n$\\n\\nThe following table shows the detail of other income/(expense), net for the three- and six-month periods ended April 1, 2023 and March 26, 2022 (in millions):\\n\\nInterest and dividend income\\nInterest expense\\nOther income/(expense), net\\n\\nTotal other income/(expense), net\\n\\nThree Months Ended\\n\\nSix Months Ended\\n\\nApril 1,\\n2023\\n\\nMarch 26,\\n2022\\n\\nApril 1,\\n2023\\n\\nMarch 26,\\n2022\\n\\n$\\n\\n$\\n\\n918  $\\n(930)\\n76 \\n\\n64  $\\n\\n700  $\\n(691)\\n151 \\n\\n160  $\\n\\n1,786  $\\n(1,933)\\n(182)\\n\\n(329) $\\n\\n1,350 \\n(1,385)\\n(52)\\n\\n(87)\\n\\nApple Inc. | Q2 2023 Form 10-Q | 10', 'page_number': 13, 'document_path': 's3://120569609191-growth-unstructured/veritydemo/sec-10-q/2023+Q2+AAPL.pdf', 'document_id': '2023 Q2 AAPL.pdf'}, {'_id': 'voOF3ZYB711G2Pqlo4HU', 'paragraph': 'Accounts Receivable\\n\\nTrade Receivables\\n\\nThe Company has considerable trade receivables outstanding with its third-party cellular network carriers, wholesalers, retailers, resellers, small and mid-sized\\nbusinesses  and  education,  enterprise  and  government  customers.  The  Company  generally  does  not  require  collateral  from  its  customers;  however,  the\\nCompany will require collateral or third-party credit support in certain instances to limit credit risk. In addition, when possible, the Company attempts to limit credit\\nrisk on trade receivables with credit insurance for certain customers or by requiring third-party financing, loans or leases to support credit exposure. These credit-\\nfinancing arrangements are directly between the third-party financing company and the end customer. As such, the Company generally does not assume any\\nrecourse or credit risk sharing related to any of these arrangements.\\n\\nAs of both April 1, 2023 and September 24, 2022, the Company had one customer that represented 10% or more of total trade receivables, which accounted for\\n10%. The Company’s cellular network carriers accounted for 32% and 44% of total trade receivables as of April 1, 2023 and September 24, 2022, respectively.\\n\\nVendor Non-Trade Receivables\\n\\nThe Company has non-trade receivables from certain of its manufacturing vendors resulting from the sale of components to these vendors who manufacture\\nsubassemblies  or  assemble  final  products  for  the  Company.  The  Company  purchases  these  components  directly  from  suppliers.  As  of  April  1,  2023,  the\\nCompany had three vendors that individually represented 10% or more of total vendor non-trade receivables, which accounted for 43%, 19% and 13%. As of\\nSeptember 24, 2022, the Company had two vendors that individually represented 10% or more of total vendor non-trade receivables, which accounted for 54%\\nand 13%.\\n\\nNote 4 – Condensed Consolidated Financial Statement Details\\n\\nThe following tables show the Company’s condensed consolidated financial statement details as of April 1, 2023 and September 24, 2022 (in millions):\\n\\nInventories\\n\\nComponents\\nFinished goods\\n\\nTotal inventories\\n\\nProperty, Plant and Equipment, Net\\n\\nGross property, plant and equipment\\nAccumulated depreciation and amortization\\n\\nTotal property, plant and equipment, net\\n\\nOther Income/(Expense), Net\\n\\nApril 1,\\n2023\\n\\nSeptember 24,\\n2022\\n\\n3,379  $\\n4,103 \\n7,482  $\\n\\n1,637 \\n3,309 \\n4,946 \\n\\nApril 1,\\n2023\\n\\nSeptember 24,\\n2022\\n\\n113,066  $\\n(69,668)\\n43,398  $\\n\\n114,457 \\n(72,340)\\n42,117 \\n\\n$\\n\\n$\\n\\n$\\n\\n$\\n\\nThe following table shows the detail of other income/(expense), net for the three- and six-month periods ended April 1, 2023 and March 26, 2022 (in millions):\\n\\nInterest and dividend income\\nInterest expense\\nOther income/(expense), net\\n\\nTotal other income/(expense), net\\n\\nThree Months Ended\\n\\nSix Months Ended\\n\\nApril 1,\\n2023\\n\\nMarch 26,\\n2022\\n\\nApril 1,\\n2023\\n\\nMarch 26,\\n2022\\n\\n$\\n\\n$\\n\\n918  $\\n(930)\\n76 \\n\\n64  $\\n\\n700  $\\n(691)\\n151 \\n\\n160  $\\n\\n1,786  $\\n(1,933)\\n(182)\\n\\n(329) $\\n\\n1,350 \\n(1,385)\\n(52)\\n\\n(87)\\n\\nApple Inc. | Q2 2023 Form 10-Q | 10', 'page_number': 13, 'document_path': 's3://120569609191-growth-unstructured/veritydemo/sec-10-q/2023+Q2+AAPL.pdf', 'document_id': '2023 Q2 AAPL.pdf'}, {'_id': 'L9aO3ZYBSJd5sHbkdsEA', 'paragraph': 'Accounts Receivable\\n\\nTrade Receivables\\n\\nThe Company has considerable trade receivables outstanding with its third-party cellular network carriers, wholesalers, retailers, resellers, small and mid-sized\\nbusinesses  and  education,  enterprise  and  government  customers.  The  Company  generally  does  not  require  collateral  from  its  customers;  however,  the\\nCompany will require collateral or third-party credit support in certain instances to limit credit risk. In addition, when possible, the Company attempts to limit credit\\nrisk on trade receivables with credit insurance for certain customers or by requiring third-party financing, loans or leases to support credit exposure. These credit-\\nfinancing arrangements are directly between the third-party financing company and the end customer. As such, the Company generally does not assume any\\nrecourse or credit risk sharing related to any of these arrangements.\\n\\nAs of both April 1, 2023 and September 24, 2022, the Company had one customer that represented 10% or more of total trade receivables, which accounted for\\n10%. The Company’s cellular network carriers accounted for 32% and 44% of total trade receivables as of April 1, 2023 and September 24, 2022, respectively.\\n\\nVendor Non-Trade Receivables\\n\\nThe Company has non-trade receivables from certain of its manufacturing vendors resulting from the sale of components to these vendors who manufacture\\nsubassemblies  or  assemble  final  products  for  the  Company.  The  Company  purchases  these  components  directly  from  suppliers.  As  of  April  1,  2023,  the\\nCompany had three vendors that individually represented 10% or more of total vendor non-trade receivables, which accounted for 43%, 19% and 13%. As of\\nSeptember 24, 2022, the Company had two vendors that individually represented 10% or more of total vendor non-trade receivables, which accounted for 54%\\nand 13%.\\n\\nNote 4 – Condensed Consolidated Financial Statement Details\\n\\nThe following tables show the Company’s condensed consolidated financial statement details as of April 1, 2023 and September 24, 2022 (in millions):\\n\\nInventories\\n\\nComponents\\nFinished goods\\n\\nTotal inventories\\n\\nProperty, Plant and Equipment, Net\\n\\nGross property, plant and equipment\\nAccumulated depreciation and amortization\\n\\nTotal property, plant and equipment, net\\n\\nOther Income/(Expense), Net\\n\\nApril 1,\\n2023\\n\\nSeptember 24,\\n2022\\n\\n3,379  $\\n4,103 \\n7,482  $\\n\\n1,637 \\n3,309 \\n4,946 \\n\\nApril 1,\\n2023\\n\\nSeptember 24,\\n2022\\n\\n113,066  $\\n(69,668)\\n43,398  $\\n\\n114,457 \\n(72,340)\\n42,117 \\n\\n$\\n\\n$\\n\\n$\\n\\n$\\n\\nThe following table shows the detail of other income/(expense), net for the three- and six-month periods ended April 1, 2023 and March 26, 2022 (in millions):\\n\\nInterest and dividend income\\nInterest expense\\nOther income/(expense), net\\n\\nTotal other income/(expense), net\\n\\nThree Months Ended\\n\\nSix Months Ended\\n\\nApril 1,\\n2023\\n\\nMarch 26,\\n2022\\n\\nApril 1,\\n2023\\n\\nMarch 26,\\n2022\\n\\n$\\n\\n$\\n\\n918  $\\n(930)\\n76 \\n\\n64  $\\n\\n700  $\\n(691)\\n151 \\n\\n160  $\\n\\n1,786  $\\n(1,933)\\n(182)\\n\\n(329) $\\n\\n1,350 \\n(1,385)\\n(52)\\n\\n(87)\\n\\nApple Inc. | Q2 2023 Form 10-Q | 10', 'page_number': 13, 'document_path': 's3://120569609191-growth-unstructured/veritydemo/sec-10-q/2023+Q2+AAPL.pdf', 'document_id': '2023 Q2 AAPL.pdf'}]}\n"
          ]
        }
      ],
      "source": [
        "def search_documents(query=\"apple\", top_k=5):\n",
        "    \"\"\"Search for documents in the knowledge base.\"\"\"\n",
        "    # Create API client\n",
        "    with verity_ai_pyc.ApiClient(configuration) as api_client:\n",
        "        unstructured_api = verity_ai_pyc.UnstructuredApi(api_client)\n",
        "        \n",
        "        try:\n",
        "            # Create retrieval request  \n",
        "            request = verity_ai_pyc.RetrievalRequestPublic(\n",
        "                query=\"apple\",\n",
        "                knowledge_base=verity_ai_pyc.KnowledgeBase1(\"all\"),  # Use KnowledgeBase1 for RetrievalRequestPublic\n",
        "                top_k=5\n",
        "            )\n",
        "            \n",
        "            response = unstructured_api.retrieve(request)\n",
        "            print(\"✅ Document search completed successfully!\")\n",
        "            print(response)\n",
        "            return response\n",
        "        except ApiException as e:\n",
        "            print(f\"❌ Error: {e}\")\n",
        "            return None\n",
        "\n",
        "\n",
        "# Search documents\n",
        "search_results = search_documents()"
      ]
    },
    {
      "cell_type": "markdown",
      "metadata": {
        "vscode": {
          "languageId": "raw"
        }
      },
      "source": [
        "## 6. Agent Chat Completion - Advanced AI Interactions\n",
        "\n",
        "This example shows how to use the agent chat completion API for more advanced AI interactions:\n"
      ]
    },
    {
      "cell_type": "code",
      "execution_count": 21,
      "metadata": {},
      "outputs": [],
      "source": [
        "def simple_agent_chat_example(agent_id):\n",
        "    \"\"\"Simple example of agent chat using agent_flag=True and agent_id.\"\"\"\n",
        "\n",
        "    with verity_ai_pyc.ApiClient(configuration) as api_client:\n",
        "        completions_api = verity_ai_pyc.CompletionsApi(api_client)\n",
        "        \n",
        "\n",
        "        chat_request = verity_ai_pyc.ChatCompletionRequestPublic(\n",
        "            model=\"anthropic_claude_3_5_sonnet_v1\",\n",
        "            messages=[verity_ai_pyc.Message(role=\"user\", content=\"Hello! What can you help me with?\")],\n",
        "            agent_flag=True,  # Enable agent mode\n",
        "            agent_id=agent_id,  # Specify which agent to use\n",
        "            data_type=\"unstructured\",\n",
        "            knowledge_base=verity_ai_pyc.KnowledgeBase(\"all\")  # Pass as KnowledgeBase object\n",
        "        )\n",
        "\n",
        "        try:\n",
        "            response = completions_api.create_chat_completion_rag_generation_chat_completions_post(chat_request)\n",
        "            print(\"✅ Agent Response:\", response.messages[0].content)\n",
        "            return response\n",
        "        except ApiException as e:\n",
        "            print(f\"❌ Error: {e}\")\n",
        "            print(\"💡 Make sure to replace 'CUS_your_agent_id_here' with a real agent ID\")\n",
        "            return None"
      ]
    },
    {
      "cell_type": "code",
      "execution_count": 22,
      "metadata": {},
      "outputs": [
        {
          "name": "stdout",
          "output_type": "stream",
          "text": [
            "✅ Agent Response: Hello! I'm an AI assistant created by Anthropic to help with a variety of tasks. I can assist you with things like:\n",
            "\n",
            "- Information lookup and research\n",
            "- Writing and editing help (e.g. documents, emails, articles)\n",
            "- Analysis and problem-solving\n",
            "- Creative ideation and brainstorming\n",
            "- And much more!\n",
            "\n",
            "Please feel free to ask me about any topic or task you need help with, and I'll do my best to provide useful information or guidance. How can I assist you today?\n"
          ]
        },
        {
          "data": {
            "text/plain": [
              "ChatCompletionResponse(id='a38ec6db-c290-463c-88fb-c62381f632fb', created=1749720699, model='anthropic_claude_3_5_sonnet_v1', messages=[ChatCompletionMessage(role='assistant', content=\"Hello! I'm an AI assistant created by Anthropic to help with a variety of tasks. I can assist you with things like:\\n\\n- Information lookup and research\\n- Writing and editing help (e.g. documents, emails, articles)\\n- Analysis and problem-solving\\n- Creative ideation and brainstorming\\n- And much more!\\n\\nPlease feel free to ask me about any topic or task you need help with, and I'll do my best to provide useful information or guidance. How can I assist you today?\", metadata={'stage': 'final_answer'})], structured_data=[], sources=[], usage=Usage(prompt_tokens=7, completion_tokens=81, total_tokens=88), metadata={'history': [{'step': 1, 'timestamp': '2025-06-12T09:31:38.119697Z', 'role': 'user', 'content': 'Hello! What can you help me with?', 'category': None, 'metadata': {}}, {'step': 2, 'timestamp': '2025-06-12T09:31:39.769799Z', 'role': 'assistant', 'content': \"Hello! I'm an AI assistant created by Anthropic to help with a variety of tasks. I can assist you with things like:\\n\\n- Information lookup and research\\n- Writing and editing help (e.g. documents, emails, articles)\\n- Analysis and problem-solving\\n- Creative ideation and brainstorming\\n- And much more!\\n\\nPlease feel free to ask me about any topic or task you need help with, and I'll do my best to provide useful information or guidance. How can I assist you today?\", 'category': 'final_response', 'metadata': {'stage': 'final_answer', 'category': 'final_response'}}]}, llm_sql_generation=None)"
            ]
          },
          "execution_count": 22,
          "metadata": {},
          "output_type": "execute_result"
        }
      ],
      "source": [
        "# Example with a specific agent ID (replace with your actual agent ID) from the portal\n",
        "agent_id = \"CUS_d551e1ae-3792-423f-950c-bc3a2ef5680e\"  \n",
        "simple_agent_chat_example(agent_id)"
      ]
    }
  ],
  "metadata": {
    "kernelspec": {
      "display_name": "aws_env",
      "language": "python",
      "name": "python3"
    },
    "language_info": {
      "codemirror_mode": {
        "name": "ipython",
        "version": 3
      },
      "file_extension": ".py",
      "mimetype": "text/x-python",
      "name": "python",
      "nbconvert_exporter": "python",
      "pygments_lexer": "ipython3",
      "version": "3.13.2"
    }
  },
  "nbformat": 4,
  "nbformat_minor": 2
}
